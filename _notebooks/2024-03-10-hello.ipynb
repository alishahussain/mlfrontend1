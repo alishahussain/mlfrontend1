{
 "cells": [
  {
   "cell_type": "markdown",
   "metadata": {},
   "source": [
    "---\n",
    "comments: True\n",
    "layout: base\n",
    "title: Hello\n",
    "description: Test \n",
    "courses: {'compsci': {'week': 5}}\n",
    "type: ccc\n",
    "permalink: /hello\n",
    "---"
   ]
  },
  {
   "cell_type": "code",
   "execution_count": null,
   "metadata": {},
   "outputs": [],
   "source": []
  }
 ],
 "metadata": {
  "language_info": {
   "name": "python"
  }
 },
 "nbformat": 4,
 "nbformat_minor": 2
}
